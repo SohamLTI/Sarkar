{
 "cells": [
  {
   "cell_type": "code",
   "execution_count": 1,
   "id": "0ee0ec90-541c-4002-8332-72e5c86d1a4c",
   "metadata": {},
   "outputs": [
    {
     "name": "stdout",
     "output_type": "stream",
     "text": [
      "Requirement already satisfied: pip in /opt/conda/lib/python3.9/site-packages (24.3.1)\n",
      "Note: you may need to restart the kernel to use updated packages.\n"
     ]
    }
   ],
   "source": [
    "pip install --upgrade pip"
   ]
  },
  {
   "cell_type": "code",
   "execution_count": 2,
   "id": "a219cbe9-73ff-4b54-9d70-717495976011",
   "metadata": {},
   "outputs": [
    {
     "name": "stdout",
     "output_type": "stream",
     "text": [
      "Requirement already satisfied: seaborn in /opt/conda/lib/python3.9/site-packages (0.13.2)\n",
      "Requirement already satisfied: numpy!=1.24.0,>=1.20 in /opt/conda/lib/python3.9/site-packages (from seaborn) (1.26.4)\n",
      "Requirement already satisfied: pandas>=1.2 in /opt/conda/lib/python3.9/site-packages (from seaborn) (2.2.0)\n",
      "Requirement already satisfied: matplotlib!=3.6.1,>=3.4 in /opt/conda/lib/python3.9/site-packages (from seaborn) (3.9.2)\n",
      "Requirement already satisfied: contourpy>=1.0.1 in /opt/conda/lib/python3.9/site-packages (from matplotlib!=3.6.1,>=3.4->seaborn) (1.3.0)\n",
      "Requirement already satisfied: cycler>=0.10 in /opt/conda/lib/python3.9/site-packages (from matplotlib!=3.6.1,>=3.4->seaborn) (0.12.1)\n",
      "Requirement already satisfied: fonttools>=4.22.0 in /opt/conda/lib/python3.9/site-packages (from matplotlib!=3.6.1,>=3.4->seaborn) (4.55.0)\n",
      "Requirement already satisfied: kiwisolver>=1.3.1 in /opt/conda/lib/python3.9/site-packages (from matplotlib!=3.6.1,>=3.4->seaborn) (1.4.7)\n",
      "Requirement already satisfied: packaging>=20.0 in /opt/conda/lib/python3.9/site-packages (from matplotlib!=3.6.1,>=3.4->seaborn) (23.2)\n",
      "Requirement already satisfied: pillow>=8 in /opt/conda/lib/python3.9/site-packages (from matplotlib!=3.6.1,>=3.4->seaborn) (11.0.0)\n",
      "Requirement already satisfied: pyparsing>=2.3.1 in /opt/conda/lib/python3.9/site-packages (from matplotlib!=3.6.1,>=3.4->seaborn) (3.2.0)\n",
      "Requirement already satisfied: python-dateutil>=2.7 in /opt/conda/lib/python3.9/site-packages (from matplotlib!=3.6.1,>=3.4->seaborn) (2.9.0.post0)\n",
      "Requirement already satisfied: importlib-resources>=3.2.0 in /opt/conda/lib/python3.9/site-packages (from matplotlib!=3.6.1,>=3.4->seaborn) (6.4.5)\n",
      "Requirement already satisfied: pytz>=2020.1 in /opt/conda/lib/python3.9/site-packages (from pandas>=1.2->seaborn) (2024.1)\n",
      "Requirement already satisfied: tzdata>=2022.7 in /opt/conda/lib/python3.9/site-packages (from pandas>=1.2->seaborn) (2024.1)\n",
      "Requirement already satisfied: zipp>=3.1.0 in /opt/conda/lib/python3.9/site-packages (from importlib-resources>=3.2.0->matplotlib!=3.6.1,>=3.4->seaborn) (3.19.2)\n",
      "Requirement already satisfied: six>=1.5 in /opt/conda/lib/python3.9/site-packages (from python-dateutil>=2.7->matplotlib!=3.6.1,>=3.4->seaborn) (1.16.0)\n"
     ]
    }
   ],
   "source": [
    "import numpy as np\n",
    "import pandas as pd\n",
    "!pip install seaborn\n",
    " \n",
    "# For visualization\n",
    "import matplotlib.pyplot as plt\n",
    "%matplotlib inline\n",
    "import seaborn as sns\n",
    "pd.options.display.max_rows = None\n",
    "pd.options.display.max_columns = None"
   ]
  },
  {
   "cell_type": "code",
   "execution_count": 3,
   "id": "04204951-87df-4fe3-9c5e-bc1266373435",
   "metadata": {},
   "outputs": [],
   "source": [
    "from fosforml.model_manager.snowflakesession import get_session\n",
    "\n",
    "my_session = get_session()\n",
    "\n",
    "table_name = 'DATAANALYSISFINAL24'\n",
    "\n",
    "sf_df = my_session.sql(\"select * from {}\".format(table_name))\n",
    "\n",
    "df = sf_df.to_pandas()\n",
    " "
   ]
  },
  {
   "cell_type": "code",
   "execution_count": 4,
   "id": "c1375957-dabd-4e9b-a281-c91465fecf64",
   "metadata": {},
   "outputs": [
    {
     "data": {
      "text/plain": [
       "(16848, 13)"
      ]
     },
     "execution_count": 4,
     "metadata": {},
     "output_type": "execute_result"
    }
   ],
   "source": [
    "df.shape"
   ]
  },
  {
   "cell_type": "code",
   "execution_count": 5,
   "id": "7350c94e-b7a9-4663-8fd0-64b14fe8b8b5",
   "metadata": {},
   "outputs": [
    {
     "data": {
      "text/plain": [
       "DATE             0\n",
       "DRUG_ID          0\n",
       "CUSTOMER_NAME    0\n",
       "VOLUME           0\n",
       "UNIT_PRICE       0\n",
       "TOTAL            0\n",
       "Discount%        0\n",
       "CUSTOMER         0\n",
       "CITY             0\n",
       "REGION           0\n",
       "COUNTRY          0\n",
       "NAME             0\n",
       "SEGMENT          0\n",
       "dtype: int64"
      ]
     },
     "execution_count": 5,
     "metadata": {},
     "output_type": "execute_result"
    }
   ],
   "source": [
    "df.isnull().sum()"
   ]
  },
  {
   "cell_type": "code",
   "execution_count": 6,
   "id": "36446a22-ae19-4599-8b31-701df3c2c790",
   "metadata": {},
   "outputs": [
    {
     "data": {
      "text/plain": [
       "DATE             2106\n",
       "DRUG_ID            10\n",
       "CUSTOMER_NAME      80\n",
       "VOLUME           1356\n",
       "UNIT_PRICE          8\n",
       "TOTAL            1461\n",
       "Discount%           4\n",
       "CUSTOMER            8\n",
       "CITY               10\n",
       "REGION              7\n",
       "COUNTRY             9\n",
       "NAME                9\n",
       "SEGMENT             5\n",
       "dtype: int64"
      ]
     },
     "execution_count": 6,
     "metadata": {},
     "output_type": "execute_result"
    }
   ],
   "source": [
    "df.nunique()"
   ]
  },
  {
   "cell_type": "code",
   "execution_count": 7,
   "id": "705b8ad4-e9fc-4ccd-8d7c-0307bea2f7e7",
   "metadata": {},
   "outputs": [
    {
     "name": "stdout",
     "output_type": "stream",
     "text": [
      "<class 'pandas.core.frame.DataFrame'>\n",
      "RangeIndex: 16848 entries, 0 to 16847\n",
      "Data columns (total 13 columns):\n",
      " #   Column         Non-Null Count  Dtype  \n",
      "---  ------         --------------  -----  \n",
      " 0   DATE           16848 non-null  object \n",
      " 1   DRUG_ID        16848 non-null  object \n",
      " 2   CUSTOMER_NAME  16848 non-null  object \n",
      " 3   VOLUME         16848 non-null  float64\n",
      " 4   UNIT_PRICE     16848 non-null  int16  \n",
      " 5   TOTAL          16848 non-null  float64\n",
      " 6   Discount%      16848 non-null  int8   \n",
      " 7   CUSTOMER       16848 non-null  object \n",
      " 8   CITY           16848 non-null  object \n",
      " 9   REGION         16848 non-null  object \n",
      " 10  COUNTRY        16848 non-null  object \n",
      " 11  NAME           16848 non-null  object \n",
      " 12  SEGMENT        16848 non-null  object \n",
      "dtypes: float64(2), int16(1), int8(1), object(9)\n",
      "memory usage: 1.5+ MB\n"
     ]
    }
   ],
   "source": [
    "df.info()"
   ]
  },
  {
   "cell_type": "code",
   "execution_count": 8,
   "id": "82e934b4-95ff-4770-a9a6-c8f62aa6b310",
   "metadata": {},
   "outputs": [],
   "source": [
    "import subprocess\n",
    "import sys\n",
    "\n",
    "# Function to install a package\n",
    "def install(package):\n",
    "    subprocess.check_call([sys.executable, \"-m\", \"pip\", \"install\", package])"
   ]
  },
  {
   "cell_type": "code",
   "execution_count": 9,
   "id": "8bdf8604-e85a-44af-8c81-6692595b0751",
   "metadata": {},
   "outputs": [
    {
     "name": "stdout",
     "output_type": "stream",
     "text": [
      "<class 'pandas.core.frame.DataFrame'>\n",
      "RangeIndex: 16848 entries, 0 to 16847\n",
      "Data columns (total 13 columns):\n",
      " #   Column         Non-Null Count  Dtype  \n",
      "---  ------         --------------  -----  \n",
      " 0   DATE           16848 non-null  object \n",
      " 1   DRUG_ID        16848 non-null  object \n",
      " 2   CUSTOMER_NAME  16848 non-null  object \n",
      " 3   VOLUME         16848 non-null  float64\n",
      " 4   UNIT_PRICE     16848 non-null  int16  \n",
      " 5   TOTAL          16848 non-null  float64\n",
      " 6   Discount%      16848 non-null  int8   \n",
      " 7   CUSTOMER       16848 non-null  object \n",
      " 8   CITY           16848 non-null  object \n",
      " 9   REGION         16848 non-null  object \n",
      " 10  COUNTRY        16848 non-null  object \n",
      " 11  NAME           16848 non-null  object \n",
      " 12  SEGMENT        16848 non-null  object \n",
      "dtypes: float64(2), int16(1), int8(1), object(9)\n",
      "memory usage: 1.5+ MB\n"
     ]
    }
   ],
   "source": [
    "df.info()"
   ]
  },
  {
   "cell_type": "code",
   "execution_count": 14,
   "id": "a111e455-ed80-4178-b804-c555f3d2c79a",
   "metadata": {},
   "outputs": [],
   "source": [
    "import pandas as pd\n",
    "from statsmodels.tsa.holtwinters import ExponentialSmoothing\n",
    "import matplotlib.pyplot as plt\n",
    "\n",
    "\n",
    "# Convert the DATE column to datetime format\n",
    "df['DATE'] = pd.to_datetime(df['DATE'])\n",
    "\n"
   ]
  },
  {
   "cell_type": "code",
   "execution_count": 16,
   "id": "7a51e901-f7aa-409d-96b4-ef075f2d921c",
   "metadata": {},
   "outputs": [
    {
     "name": "stdout",
     "output_type": "stream",
     "text": [
      "<class 'pandas.core.frame.DataFrame'>\n",
      "RangeIndex: 16848 entries, 0 to 16847\n",
      "Data columns (total 13 columns):\n",
      " #   Column         Non-Null Count  Dtype         \n",
      "---  ------         --------------  -----         \n",
      " 0   DATE           16848 non-null  datetime64[ns]\n",
      " 1   DRUG_ID        16848 non-null  object        \n",
      " 2   CUSTOMER_NAME  16848 non-null  object        \n",
      " 3   VOLUME         16848 non-null  float64       \n",
      " 4   UNIT_PRICE     16848 non-null  int16         \n",
      " 5   TOTAL          16848 non-null  float64       \n",
      " 6   Discount%      16848 non-null  int8          \n",
      " 7   CUSTOMER       16848 non-null  object        \n",
      " 8   CITY           16848 non-null  object        \n",
      " 9   REGION         16848 non-null  object        \n",
      " 10  COUNTRY        16848 non-null  object        \n",
      " 11  NAME           16848 non-null  object        \n",
      " 12  SEGMENT        16848 non-null  object        \n",
      "dtypes: datetime64[ns](1), float64(2), int16(1), int8(1), object(8)\n",
      "memory usage: 1.5+ MB\n"
     ]
    }
   ],
   "source": [
    "df.info()"
   ]
  },
  {
   "cell_type": "code",
   "execution_count": 11,
   "id": "0f28a29f-8dc5-468a-86f6-54920dd08888",
   "metadata": {},
   "outputs": [],
   "source": [
    "# # Set the DATE column as the index and set the frequency\n",
    "# data.set_index('Date', inplace=True)\n",
    "# data.index.freq = 'D'  # Setting frequency to daily\n",
    "\n",
    "# # Select the target column for forecasting\n",
    "# target = 'VOLUME'\n",
    "\n",
    "# # Split the data into training and test sets\n",
    "# train_data = data[target][:int(0.8*len(data))]\n",
    "# test_data = data[target][int(0.8*len(data)):]\n",
    "\n",
    "# # Initialize and fit the model\n",
    "# model = ExponentialSmoothing(train_data, seasonal='add', seasonal_periods=365)  # Assuming yearly seasonality\n",
    "# fit_model = model.fit()\n",
    "\n",
    "# # Make predictions\n",
    "# predictions = fit_model.forecast(len(test_data))\n",
    "\n",
    "# # Plot the results\n",
    "# plt.figure(figsize=(10, 6))\n",
    "# plt.plot(train_data.index, train_data, label='Training Data')\n",
    "# plt.plot(test_data.index, test_data, label='Test Data')\n",
    "# plt.plot(test_data.index, predictions, label='Predictions', color='red')\n",
    "# plt.legend(loc='best')\n",
    "# plt.title('Time Series Forecasting of Volume')\n",
    "# plt.show()"
   ]
  },
  {
   "cell_type": "code",
   "execution_count": 17,
   "id": "2c6319c4-73fc-4911-adae-d9db51eb218d",
   "metadata": {},
   "outputs": [
    {
     "data": {
      "image/png": "[encoded data removed]",
      "text/plain": [
       "<Figure size 1000x600 with 1 Axes>"
      ]
     },
     "metadata": {},
     "output_type": "display_data"
    },
    {
     "ename": "ValueError",
     "evalue": "You must specify a period or x must be a pandas object with a PeriodIndex or a DatetimeIndex with a freq not set to None",
     "output_type": "error",
     "traceback": [
      "\u001b[0;31m---------------------------------------------------------------------------\u001b[0m",
      "\u001b[0;31mValueError\u001b[0m                                Traceback (most recent call last)",
      "Cell \u001b[0;32mIn[17], line 23\u001b[0m\n\u001b[1;32m     20\u001b[0m plt\u001b[38;5;241m.\u001b[39mshow()\n\u001b[1;32m     22\u001b[0m \u001b[38;5;66;03m# Decompose the time series data\u001b[39;00m\n\u001b[0;32m---> 23\u001b[0m decomposition \u001b[38;5;241m=\u001b[39m \u001b[43mseasonal_decompose\u001b[49m\u001b[43m(\u001b[49m\u001b[43mdf\u001b[49m\u001b[43m[\u001b[49m\u001b[38;5;124;43m'\u001b[39;49m\u001b[38;5;124;43mVOLUME\u001b[39;49m\u001b[38;5;124;43m'\u001b[39;49m\u001b[43m]\u001b[49m\u001b[43m,\u001b[49m\u001b[43m \u001b[49m\u001b[43mmodel\u001b[49m\u001b[38;5;241;43m=\u001b[39;49m\u001b[38;5;124;43m'\u001b[39;49m\u001b[38;5;124;43madditive\u001b[39;49m\u001b[38;5;124;43m'\u001b[39;49m\u001b[43m)\u001b[49m\n\u001b[1;32m     24\u001b[0m fig \u001b[38;5;241m=\u001b[39m decomposition\u001b[38;5;241m.\u001b[39mplot()\n\u001b[1;32m     25\u001b[0m plt\u001b[38;5;241m.\u001b[39mshow()\n",
      "File \u001b[0;32m/opt/conda/lib/python3.9/site-packages/statsmodels/tsa/seasonal.py:167\u001b[0m, in \u001b[0;36mseasonal_decompose\u001b[0;34m(x, model, filt, period, two_sided, extrapolate_trend)\u001b[0m\n\u001b[1;32m    165\u001b[0m         period \u001b[38;5;241m=\u001b[39m pfreq\n\u001b[1;32m    166\u001b[0m     \u001b[38;5;28;01melse\u001b[39;00m:\n\u001b[0;32m--> 167\u001b[0m         \u001b[38;5;28;01mraise\u001b[39;00m \u001b[38;5;167;01mValueError\u001b[39;00m(\n\u001b[1;32m    168\u001b[0m             \u001b[38;5;124m\"\u001b[39m\u001b[38;5;124mYou must specify a period or x must be a pandas object with \u001b[39m\u001b[38;5;124m\"\u001b[39m\n\u001b[1;32m    169\u001b[0m             \u001b[38;5;124m\"\u001b[39m\u001b[38;5;124ma PeriodIndex or a DatetimeIndex with a freq not set to None\u001b[39m\u001b[38;5;124m\"\u001b[39m\n\u001b[1;32m    170\u001b[0m         )\n\u001b[1;32m    171\u001b[0m \u001b[38;5;28;01mif\u001b[39;00m x\u001b[38;5;241m.\u001b[39mshape[\u001b[38;5;241m0\u001b[39m] \u001b[38;5;241m<\u001b[39m \u001b[38;5;241m2\u001b[39m \u001b[38;5;241m*\u001b[39m pfreq:\n\u001b[1;32m    172\u001b[0m     \u001b[38;5;28;01mraise\u001b[39;00m \u001b[38;5;167;01mValueError\u001b[39;00m(\n\u001b[1;32m    173\u001b[0m         \u001b[38;5;124mf\u001b[39m\u001b[38;5;124m\"\u001b[39m\u001b[38;5;124mx must have 2 complete cycles requires \u001b[39m\u001b[38;5;132;01m{\u001b[39;00m\u001b[38;5;241m2\u001b[39m\u001b[38;5;250m \u001b[39m\u001b[38;5;241m*\u001b[39m\u001b[38;5;250m \u001b[39mpfreq\u001b[38;5;132;01m}\u001b[39;00m\u001b[38;5;124m \u001b[39m\u001b[38;5;124m\"\u001b[39m\n\u001b[1;32m    174\u001b[0m         \u001b[38;5;124mf\u001b[39m\u001b[38;5;124m\"\u001b[39m\u001b[38;5;124mobservations. x only has \u001b[39m\u001b[38;5;132;01m{\u001b[39;00mx\u001b[38;5;241m.\u001b[39mshape[\u001b[38;5;241m0\u001b[39m]\u001b[38;5;132;01m}\u001b[39;00m\u001b[38;5;124m observation(s)\u001b[39m\u001b[38;5;124m\"\u001b[39m\n\u001b[1;32m    175\u001b[0m     )\n",
      "\u001b[0;31mValueError\u001b[0m: You must specify a period or x must be a pandas object with a PeriodIndex or a DatetimeIndex with a freq not set to None"
     ]
    }
   ],
   "source": [
    "import pandas as pd\n",
    "import matplotlib.pyplot as plt\n",
    "from statsmodels.tsa.seasonal import seasonal_decompose\n",
    "from statsmodels.tsa.holtwinters import ExponentialSmoothing\n",
    "\n",
    "\n",
    "# Ensure the DATE column is in datetime format\n",
    "df['DATE'] = pd.to_datetime(df['DATE'], format='%Y-%m-%d')\n",
    "\n",
    "# Set the DATE column as the index\n",
    "df.set_index('DATE', inplace=True)\n",
    "\n",
    "# Plot the VOLUME data\n",
    "plt.figure(figsize=(10, 6))\n",
    "plt.plot(df['VOLUME'], label='VOLUME')\n",
    "plt.title('Daily VOLUME Data')\n",
    "plt.xlabel('Date')\n",
    "plt.ylabel('VOLUME')\n",
    "plt.legend()\n",
    "plt.show()\n",
    "\n",
    "# Decompose the time series data\n",
    "decomposition = seasonal_decompose(df['VOLUME'], model='additive')\n",
    "fig = decomposition.plot()\n",
    "plt.show()\n",
    "\n",
    "# Split the data into training and testing sets\n",
    "train_data = df['VOLUME'][:int(0.8*(len(df)))]\n",
    "test_data = df['VOLUME'][int(0.8*(len(df))):]\n",
    "\n",
    "# Apply Exponential Smoothing for forecasting\n",
    "model = ExponentialSmoothing(train_data, seasonal='add', seasonal_periods=12).fit()\n",
    "forecast = model.forecast(steps=len(test_data))\n",
    "\n",
    "# Plot the forecasted data\n",
    "plt.figure(figsize=(10, 6))\n",
    "plt.plot(train_data, label='Training Data')\n",
    "plt.plot(test_data, label='Test Data')\n",
    "plt.plot(forecast, label='Forecasted Data')\n",
    "plt.title('Time Series Forecasting of VOLUME')\n",
    "plt.xlabel('Date')\n",
    "plt.ylabel('VOLUME')\n",
    "plt.legend()\n",
    "plt.show()\n",
    "\n",
    "# Print the forecasted values\n",
    "print(forecast)"
   ]
  }
 ],
 "metadata": {
  "kernelspec": {
   "display_name": "Python 3 (ipykernel)",
   "language": "python",
   "name": "python3"
  },
  "language_info": {
   "codemirror_mode": {
    "name": "ipython",
    "version": 3
   },
   "file_extension": ".py",
   "mimetype": "text/x-python",
   "name": "python",
   "nbconvert_exporter": "python",
   "pygments_lexer": "ipython3",
   "version": "3.9.19"
  }
 },
 "nbformat": 4,
 "nbformat_minor": 5
}
