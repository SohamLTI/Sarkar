{
 "cells": [
  {
   "cell_type": "code",
   "execution_count": null,
   "id": "e78f32a3-2f7e-4ba1-98c1-4de556781396",
   "metadata": {},
   "outputs": [],
   "source": []
  }
 ],
 "metadata": {
  "kernelspec": {
   "display_name": "",
   "name": ""
  },
  "language_info": {
   "name": ""
  }
 },
 "nbformat": 4,
 "nbformat_minor": 5
}
