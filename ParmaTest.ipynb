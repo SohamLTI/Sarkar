{
 "cells": [
  {
   "cell_type": "code",
   "execution_count": null,
   "id": "d1648bc2-a51e-41cb-aefe-4246efb44183",
   "metadata": {},
   "outputs": [
    {
     "name": "stdout",
     "output_type": "stream",
     "text": [
      "Requirement already satisfied: pip in /opt/conda/lib/python3.9/site-packages (24.3.1)\n"
     ]
    }
   ],
   "source": [
    "pip install --upgrade pip"
   ]
  },
  {
   "cell_type": "code",
   "execution_count": null,
   "id": "29d5ac6f-43cd-40c1-88a2-2560ef2ac4a9",
   "metadata": {},
   "outputs": [],
   "source": [
    "import numpy as np\n",
    "import pandas as pd\n",
    "!pip install seaborn\n",
    " \n",
    "# For visualization\n",
    "import matplotlib.pyplot as plt\n",
    "%matplotlib inline\n",
    "import seaborn as sns\n",
    "pd.options.display.max_rows = None\n",
    "pd.options.display.max_columns = None"
   ]
  },
  {
   "cell_type": "code",
   "execution_count": null,
   "id": "6af4b7dc-51d0-462b-a12a-2968c18706d7",
   "metadata": {},
   "outputs": [],
   "source": [
    "from fosforml.model_manager.snowflakesession import get_session\n",
    "\n",
    "my_session = get_session()\n",
    "\n",
    "table_name = 'DATAANALYSISFINAL24'\n",
    "\n",
    "sf_df = my_session.sql(\"select * from {}\".format(table_name))\n",
    "\n",
    "df = sf_df.to_pandas()"
   ]
  },
  {
   "cell_type": "code",
   "execution_count": null,
   "id": "db8b2ad5-0a7c-4c4d-860f-28b649ebe7c5",
   "metadata": {},
   "outputs": [],
   "source": [
    "df.head()"
   ]
  },
  {
   "cell_type": "code",
   "execution_count": null,
   "id": "8ec41af6-b6ef-4ca9-81aa-9d46894647b5",
   "metadata": {},
   "outputs": [],
   "source": [
    "df.shape"
   ]
  },
  {
   "cell_type": "code",
   "execution_count": null,
   "id": "178ac8ea-efe4-4f17-b5a6-97737f8d390e",
   "metadata": {},
   "outputs": [],
   "source": [
    "df.isnull().sum()"
   ]
  },
  {
   "cell_type": "code",
   "execution_count": null,
   "id": "4fabc9bf-fde5-47c6-96a9-e42f03f92803",
   "metadata": {},
   "outputs": [],
   "source": [
    "df.nunique()"
   ]
  },
  {
   "cell_type": "code",
   "execution_count": null,
   "id": "4d53b37d-ce24-4bbb-976f-b130763397f8",
   "metadata": {},
   "outputs": [],
   "source": [
    "df.info()"
   ]
  },
  {
   "cell_type": "code",
   "execution_count": null,
   "id": "5abb9644-fa13-4a86-bf0a-ca21dd573d5a",
   "metadata": {},
   "outputs": [],
   "source": [
    "data=df.copy()"
   ]
  },
  {
   "cell_type": "code",
   "execution_count": null,
   "id": "f884a8c5-3e5c-4f75-833b-73b93e99b562",
   "metadata": {},
   "outputs": [],
   "source": [
    "data.head()"
   ]
  },
  {
   "cell_type": "code",
   "execution_count": null,
   "id": "710410bb-a1d7-411f-a75b-599957f8d5fb",
   "metadata": {},
   "outputs": [],
   "source": [
    "from sklearn.preprocessing import OneHotEncoder\n",
    "import pandas as pd\n",
    "data_subset = data[['CITY', 'REGION', 'COUNTRY', 'SEGMENT', 'NAME']]\n",
    " \n",
    "# Initialize the OneHotEncoder\n",
    "encoder = OneHotEncoder(sparse=False, drop=None)\n",
    " \n",
    "# Fit and transform the data\n",
    "encoded_data = encoder.fit_transform(data_subset)\n",
    " \n",
    "# Convert the encoded data to a DataFrame\n",
    "encoded_df = pd.DataFrame(encoded_data, columns=encoder.get_feature_names_out(data_subset.columns))\n",
    " \n",
    "# Display the first few rows of the encoded DataFrame\n",
    "print(encoded_df.head())"
   ]
  },
  {
   "cell_type": "code",
   "execution_count": null,
   "id": "f8c635a2-8c6f-4407-98a8-96814edb2c81",
   "metadata": {},
   "outputs": [],
   "source": [
    "data=pd.concat([data,encoded_df],axis=1)"
   ]
  },
  {
   "cell_type": "code",
   "execution_count": null,
   "id": "97e5d530-2d43-459e-a9d5-6499304f1176",
   "metadata": {},
   "outputs": [],
   "source": [
    "data.head()"
   ]
  },
  {
   "cell_type": "code",
   "execution_count": null,
   "id": "f2e413fe-7a3c-4a8d-8a93-0b4649848261",
   "metadata": {},
   "outputs": [],
   "source": [
    "data.drop(['CITY', 'REGION', 'COUNTRY', 'SEGMENT', 'NAME'], axis=1, inplace=True)"
   ]
  },
  {
   "cell_type": "code",
   "execution_count": null,
   "id": "0895ccf0-58ec-4957-aa8d-d0179ccd1ad6",
   "metadata": {},
   "outputs": [],
   "source": [
    "data.head()"
   ]
  },
  {
   "cell_type": "code",
   "execution_count": null,
   "id": "9950344d-07ae-4c3f-b7eb-ac9ee0880fd9",
   "metadata": {},
   "outputs": [],
   "source": [
    "X=data.drop(['DATE','DRUG_ID','CUSTOMER_NAME','CUSTOMER'],axis=1)"
   ]
  },
  {
   "cell_type": "code",
   "execution_count": null,
   "id": "45eaa3bc-7324-4448-befc-d60f5fdd8b23",
   "metadata": {},
   "outputs": [],
   "source": [
    "data.head()"
   ]
  },
  {
   "cell_type": "code",
   "execution_count": null,
   "id": "a37baff7-c64b-470c-9254-14d3ca1ac666",
   "metadata": {},
   "outputs": [],
   "source": [
    "# Create DataFrame\n",
    "X = pd.DataFrame(data)\n",
    "\n",
    "# Convert all columns to numeric values\n",
    "X = df.apply(pd.to_numeric)\n",
    "\n",
    "# Initialize the MinMaxScaler\n",
    "scaler = MinMaxScaler()\n",
    "\n",
    "# Apply the scaler to the DataFrame\n",
    "scaled_df = pd.DataFrame(scaler.fit_transform(X), columns=X.columns)\n",
    "\n",
    "# Display the first few rows of the scaled dataframe\n",
    "print(scaled_df.head())"
   ]
  },
  {
   "cell_type": "code",
   "execution_count": null,
   "id": "c6d934ac-9167-4731-8f93-f468baa5d4bb",
   "metadata": {},
   "outputs": [],
   "source": [
    "X.info()"
   ]
  },
  {
   "cell_type": "code",
   "execution_count": null,
   "id": "5b5721fc-ad1a-41b8-87c8-50ab01922884",
   "metadata": {},
   "outputs": [],
   "source": [
    "import pandas as pd\n",
    "from sklearn.preprocessing import MinMaxScaler\n",
    "\n",
    "# Create DataFrame\n",
    "X = pd.DataFrame(data)\n",
    "\n",
    "# Convert all columns to numeric values\n",
    "X = X.apply(pd.to_numeric)\n",
    "\n",
    "# Initialize the MinMaxScaler\n",
    "scaler = MinMaxScaler()\n",
    "\n",
    "# Apply the scaler to the DataFrame\n",
    "scaled_df = pd.DataFrame(scaler.fit_transform(X), columns=X.columns)\n",
    "\n",
    "# Display the first few rows of the scaled dataframe\n",
    "print(scaled_df.head())"
   ]
  },
  {
   "cell_type": "code",
   "execution_count": null,
   "id": "875e3e4f-6ea8-4f60-8f9d-ab1a1678170a",
   "metadata": {},
   "outputs": [],
   "source": [
    "from sklearn.preprocessing import MinMaxScaler\n",
    "# Create DataFrame\n",
    "X = pd.DataFrame(data)\n",
    "\n",
    "# Initialize the MinMaxScaler\n",
    "scaler = MinMaxScaler()\n",
    "\n",
    "# Apply the scaler to the DataFrame\n",
    "scaled_df = pd.DataFrame(scaler.fit_transform(X), columns=X.columns)\n",
    "\n",
    "# Display the first few rows of the scaled dataframe\n",
    "print(scaled_df.head())"
   ]
  },
  {
   "cell_type": "code",
   "execution_count": null,
   "id": "67fabd12-76bc-4282-809c-dc591e1f845d",
   "metadata": {},
   "outputs": [],
   "source": [
    "X.dtypes"
   ]
  },
  {
   "cell_type": "code",
   "execution_count": null,
   "id": "4437dcf8-1038-42df-8c29-fa81449c27bf",
   "metadata": {},
   "outputs": [],
   "source": [
    "# Convert entire DataFrame to object \n",
    "dtypedf = X.astype(object)"
   ]
  },
  {
   "cell_type": "code",
   "execution_count": null,
   "id": "bb9e2212-d5fe-4af6-ab04-e53244bb2df2",
   "metadata": {},
   "outputs": [],
   "source": [
    "X.dtypes"
   ]
  },
  {
   "cell_type": "code",
   "execution_count": null,
   "id": "e3ac0c09-4b03-4ca9-81ff-4ae7a62b8c5e",
   "metadata": {},
   "outputs": [],
   "source": [
    "X.head()"
   ]
  },
  {
   "cell_type": "code",
   "execution_count": null,
   "id": "594094ce-8499-4a96-a6bf-24dcf80bf2c5",
   "metadata": {},
   "outputs": [],
   "source": [
    "data.drop(['DATE', 'DRUG_ID', 'CUSTOMER_NAME', 'CUSTOMER'], axis=1, inplace=True)"
   ]
  },
  {
   "cell_type": "code",
   "execution_count": null,
   "id": "c2063b8e-7f50-41d5-a2cd-05965832b59e",
   "metadata": {},
   "outputs": [],
   "source": [
    "data.head()"
   ]
  },
  {
   "cell_type": "code",
   "execution_count": null,
   "id": "43334be0-f9c5-4bab-8bef-3260a4ce99ad",
   "metadata": {},
   "outputs": [],
   "source": []
  },
  {
   "cell_type": "code",
   "execution_count": null,
   "id": "a53887b5-e20b-491a-9fdf-d7444649bcf9",
   "metadata": {},
   "outputs": [],
   "source": [
    "data=df.copy()"
   ]
  },
  {
   "cell_type": "code",
   "execution_count": null,
   "id": "97c94111-53c2-4401-a279-f9cb2aa70588",
   "metadata": {},
   "outputs": [],
   "source": []
  }
 ],
 "metadata": {
  "kernelspec": {
   "display_name": "Python 3 (ipykernel)",
   "language": "python",
   "name": "python3"
  },
  "language_info": {
   "codemirror_mode": {
    "name": "ipython",
    "version": 3
   },
   "file_extension": ".py",
   "mimetype": "text/x-python",
   "name": "python",
   "nbconvert_exporter": "python",
   "pygments_lexer": "ipython3",
   "version": "3.9.19"
  }
 },
 "nbformat": 4,
 "nbformat_minor": 5
}
